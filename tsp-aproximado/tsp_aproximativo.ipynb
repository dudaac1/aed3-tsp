{
  "cells": [
    {
      "cell_type": "code",
      "execution_count": 24,
      "metadata": {
        "id": "VUIdnGUYwXCG"
      },
      "outputs": [],
      "source": [
        "from time import time\n",
        "from scipy.sparse import csr_matrix\n",
        "from scipy.sparse.csgraph import minimum_spanning_tree\n",
        "import matplotlib.pyplot as plt\n",
        "import networkx as nx\n",
        "import numpy as np"
      ]
    },
    {
      "cell_type": "code",
      "execution_count": 25,
      "metadata": {
        "id": "EbHzdIqXwcAa"
      },
      "outputs": [],
      "source": [
        "def read_matrix_file(file):\n",
        "    with open(file) as matrix_file:\n",
        "        matrix = [list(map(int, line.split())) for line in matrix_file]\n",
        "\n",
        "    return matrix\n",
        "\n",
        "def show_graph(matrix, draw_edges=False):\n",
        "    G = nx.from_numpy_matrix(np.array(matrix))\n",
        "    pos = nx.shell_layout(G)\n",
        "    nx.draw(G, pos)\n",
        "\n",
        "    if draw_edges:\n",
        "        nx.draw_networkx_edge_labels(G, pos, label_pos=0.3)\n",
        "\n",
        "    plt.show()\n",
        "\n",
        "def path_to_matrix(path, matrix):\n",
        "    # Cria uma matriz de adjacencia que representa os caminhos disponíveis\n",
        "    nodes = range(len(matrix))\n",
        "    path_matrix = np.zeros_like(matrix)\n",
        "\n",
        "    for index in nodes:\n",
        "        line = path[index]\n",
        "        column = path[index + 1]\n",
        "\n",
        "        edge_weight = matrix[line][column]\n",
        "        path_matrix[line][column] = edge_weight\n",
        "    \n",
        "    return path_matrix\n",
        "\n",
        "def calculate_path_cost(matrix, path):\n",
        "    tsp_cost = 0\n",
        "    nodes = range(len(matrix))\n",
        "\n",
        "    for index in nodes:\n",
        "        line = path[index]\n",
        "        column = path[index + 1]\n",
        "\n",
        "        edge_weight = matrix[line][column]\n",
        "\n",
        "        tsp_cost += edge_weight\n",
        "\n",
        "    return tsp_cost"
      ]
    },
    {
      "cell_type": "code",
      "execution_count": 26,
      "metadata": {
        "id": "UKZilpfbwhmk"
      },
      "outputs": [],
      "source": [
        "def approximate_tsp(matrix, initial_node=0):\n",
        "    #Converte a matriz de adjacência para uma árvore de extensão mínima\n",
        "    MST = minimum_spanning_tree(matrix)\n",
        "    MST = MST.toarray().astype(int)\n",
        "\n",
        "    #Seta os nodos iniciais\n",
        "    nodes = range(len(MST))\n",
        "\n",
        "    path = list()\n",
        "    path.append(initial_node)\n",
        "\n",
        "    current_node = initial_node\n",
        "    previous_node = -1\n",
        "\n",
        "    #Cria um caminho até que todos os nodos estejam conectados\n",
        "    while len(set(path)) != len(nodes):\n",
        "        for connected_node in nodes:\n",
        "            #Se não possui borda (limite),\n",
        "            if MST[current_node, connected_node] == 0 and MST[connected_node, current_node] == 0:\n",
        "                continue\n",
        "\n",
        "            elif connected_node in path:\n",
        "                continue\n",
        "            \n",
        "            else:\n",
        "                path.append(connected_node)\n",
        "                current_node = connected_node\n",
        "                #Reseta o nodo anterior\n",
        "                previous_node = -1\n",
        "                break\n",
        "        else:\n",
        "            #Se não encontrou uma borda, volta para o nodo anterior\n",
        "            current_node = path[previous_node]\n",
        "            previous_node = previous_node - 1\n",
        "            \n",
        "    #O caminho termina no ponto inicial.\n",
        "    path.append(initial_node)\n",
        "    \n",
        "    #Calcula o custo\n",
        "    tsp_cost = calculate_path_cost(matrix, path)\n",
        "    \n",
        "    return tsp_cost, path"
      ]
    },
    {
      "cell_type": "code",
      "execution_count": 27,
      "metadata": {
        "id": "jFVT7Ubmwl01"
      },
      "outputs": [],
      "source": [
        "def evaluate_algorithm(matrix_file):\n",
        "    matrix = read_matrix_file(matrix_file)\n",
        "\n",
        "    #Algoritmo aproximado baseado no melhor custo\n",
        "    costs = dict()\n",
        "\n",
        "    for initial_node in range(len(matrix)):\n",
        "        start_time = time()\n",
        "        cost, approximate_path = approximate_tsp(matrix, initial_node=initial_node)\n",
        "        approximate_time = time() - start_time\n",
        "\n",
        "        costs[cost] = {\"path\": approximate_path,\n",
        "                       \"time\": approximate_time}\n",
        "\n",
        "    min_cost = min(costs.keys())\n",
        "    min_path = costs[min_cost][\"path\"]\n",
        "    min_time = costs[min_cost][\"time\"]\n",
        "\n",
        "    #Pega o custo pelo nome do arquivo\n",
        "    file_name = matrix_file.split('/').pop().upper()\n",
        "    tsp, cost = file_name.split('_')\n",
        "    cost = cost.split('.')[0]\n",
        "    \n",
        "    return tsp, min_cost, min_time"
      ]
    },
    {
      "cell_type": "code",
      "execution_count": 28,
      "metadata": {
        "colab": {
          "base_uri": "https://localhost:8080/"
        },
        "id": "me81w5hQwo9B",
        "outputId": "eba21f7f-1620-4173-9f51-19ba3657d41d"
      },
      "outputs": [
        {
          "name": "stdout",
          "output_type": "stream",
          "text": [
            "TSP\t\tAA Cost\t\tAA Time\n",
            "TSP1\t\t260\t\t0.00121\n",
            "TSP2\t\t1248\t\t0.00037\n",
            "TSP3\t\t1240\t\t0.00096\n",
            "TSP4\t\t9976\t\t0.00887\n",
            "TSP5\t\t31662\t\t0.00148\n"
          ]
        }
      ],
      "source": [
        "files = ((\"tsp1_253.txt\", True),\n",
        "         (\"tsp2_1248.txt\", True),\n",
        "         (\"tsp3_1194.txt\", False),\n",
        "         (\"tsp4_7013.txt\", False),\n",
        "         (\"tsp5_27603.txt\", False))\n",
        "\n",
        "print(\"TSP\\t\\tAA Cost\\t\\tAA Time\")\n",
        "\n",
        "    #Alterar o local para o path do arquivo\n",
        "for tsp_file in files:\n",
        "    tsp, brute_force = tsp_file\n",
        "    tsp, ap_cost, ap_time = evaluate_algorithm(f\"./tsp_data/{tsp}\")\n",
        "\n",
        "    print(f'{tsp}\\t\\t{ap_cost}\\t\\t{ap_time:.5f}')"
      ]
    }
  ],
  "metadata": {
    "colab": {
      "collapsed_sections": [],
      "provenance": []
    },
    "kernelspec": {
      "display_name": "Python 3.9.4 64-bit",
      "language": "python",
      "name": "python3"
    },
    "language_info": {
      "codemirror_mode": {
        "name": "ipython",
        "version": 3
      },
      "file_extension": ".py",
      "mimetype": "text/x-python",
      "name": "python",
      "nbconvert_exporter": "python",
      "pygments_lexer": "ipython3",
      "version": "3.10.6"
    },
    "vscode": {
      "interpreter": {
        "hash": "aee8b7b246df8f9039afb4144a1f6fd8d2ca17a180786b69acc140d282b71a49"
      }
    }
  },
  "nbformat": 4,
  "nbformat_minor": 0
}
